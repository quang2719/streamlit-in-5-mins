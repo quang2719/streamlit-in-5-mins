{
 "cells": [
  {
   "cell_type": "code",
   "execution_count": 1,
   "id": "6fcd2e5c",
   "metadata": {},
   "outputs": [],
   "source": [
    "import matplotlib.pyplot as plt\n",
    "import pandas as pd\n",
    "import streamlit as st\n"
   ]
  },
  {
   "cell_type": "code",
   "execution_count": 2,
   "id": "a1cc7959",
   "metadata": {},
   "outputs": [
    {
     "name": "stdout",
     "output_type": "stream",
     "text": [
      "^C\n"
     ]
    }
   ],
   "source": [
    "!streamlit hello"
   ]
  },
  {
   "cell_type": "code",
   "execution_count": 3,
   "id": "8d903fc9",
   "metadata": {},
   "outputs": [
    {
     "name": "stdout",
     "output_type": "stream",
     "text": [
      "Streamlit, version 1.46.1\n"
     ]
    }
   ],
   "source": [
    "!streamlit --version"
   ]
  },
  {
   "cell_type": "code",
   "execution_count": 4,
   "id": "6074f9b2",
   "metadata": {},
   "outputs": [],
   "source": [
    "!streamlit cache clear"
   ]
  },
  {
   "cell_type": "code",
   "execution_count": 5,
   "id": "65db0c0b",
   "metadata": {},
   "outputs": [
    {
     "name": "stdout",
     "output_type": "stream",
     "text": [
      "118.71.135.113\n"
     ]
    },
    {
     "name": "stderr",
     "output_type": "stream",
     "text": [
      "  % Total    % Received % Xferd  Average Speed   Time    Time     Time  Current\n",
      "                                 Dload  Upload   Total   Spent    Left  Speed\n",
      "\n",
      "  0     0    0     0    0     0      0      0 --:--:-- --:--:-- --:--:--     0\n",
      "  0     0    0     0    0     0      0      0 --:--:-- --:--:-- --:--:--     0\n",
      "100    14  100    14    0     0     13      0  0:00:01  0:00:01 --:--:--    13\n"
     ]
    }
   ],
   "source": [
    "!curl https://loca.lt/mytunnelpassword"
   ]
  },
  {
   "cell_type": "markdown",
   "id": "63585aec",
   "metadata": {},
   "source": [
    "# I. Tutorial"
   ]
  },
  {
   "cell_type": "code",
   "execution_count": 55,
   "id": "7248ef32",
   "metadata": {},
   "outputs": [
    {
     "name": "stdout",
     "output_type": "stream",
     "text": [
      "Overwriting app.py\n"
     ]
    }
   ],
   "source": [
    "%%writefile app.py\n",
    "import streamlit as st\n",
    "import numpy as np\n",
    "import pandas as pd\n",
    "\n",
    "st.title('title 1')\n",
    "\n",
    "# show text\n",
    "st.header('this is a header')\n",
    "st.subheader('this is a sub header')\n",
    "st.text('this is a normal text')\n",
    "st.caption('this is caption')\n",
    "# split line\n",
    "st.divider()\n",
    "\n",
    "# Markdown\n",
    "st.markdown('# heading 1')\n",
    "st.markdown('## heading 2')\n",
    "st.markdown('### heading 3')\n",
    "st.divider()\n",
    "\n",
    "\n",
    "# link\n",
    "st.markdown('click here [AIVN](http:link)')\n",
    "# doc string\n",
    "st.markdown(\"\"\"\n",
    "1. muc 1\n",
    "2. muc 2\n",
    "3. muc 3            \n",
    "\"\"\")\n",
    "st.divider()\n",
    "\n",
    "# math fomular format\n",
    "st.markdown(r\"$\\sqrt{2x-2}$\")\n",
    "# latex format\n",
    "st.latex(r\"\\sqrt{2x+2}\")\n",
    "st.divider()\n",
    "\n",
    "# code\n",
    "st.code(\n",
    "\"\"\"\n",
    "import numpy as np\n",
    "arr = np.arr([1,2,3])\n",
    "\"\"\"\n",
    ")\n",
    "st.divider()\n",
    "\n",
    "\n",
    "# show code, text, fomular\n",
    "st.write('### heading 4')\n",
    "st.write(r\"$\\sqrt{2x-2}$\")\n",
    "\n",
    "# debug in terminal\n",
    "print('log chi hien thi o terminal')\n",
    "st.divider()\n",
    "\n",
    "# show media\n",
    "st.logo('./assets/ChatGPT_Logo.png')\n",
    "st.image('./assets/chibi1.png', caption = 'quang chibi')\n",
    "st.divider()\n",
    "st.audio('./assets/silent.wav')\n",
    "st.divider()\n",
    "st.video('./assets/Video_Mèo_Chibi_Dễ_Thương.mp4')\n",
    "st.divider()\n",
    "\n",
    "# input\n",
    "\n",
    "# check box\n",
    "status = st.checkbox('i agree')\n",
    "st.write(f\"status is: {status}\")\n",
    "st.divider()\n",
    "\n",
    "# option\n",
    "status = st.radio(\n",
    "    'color:',\n",
    "    ['Red','Blue','Green'],\n",
    "    captions = ['chon mau do','chon mau xanh','chon mau blue']\n",
    "    )\n",
    "st.write(f'u color is {status}')\n",
    "st.divider()\n",
    "\n",
    "# select box\n",
    "status = st.selectbox('contact',('mail','num','address'))\n",
    "st.write(f'u choose {status}')\n",
    "st.divider()\n",
    "\n",
    "# multi select\n",
    "status = st.multiselect(\n",
    "    'colors:', [\n",
    "        'green',\n",
    "        'red',\n",
    "        'pink',\n",
    "        'blue'\n",
    "    ]\n",
    ")\n",
    "st.write(f'u choose {status}')\n",
    "st.write(status)\n",
    "st.divider()\n",
    "\n",
    "# slider\n",
    "\n",
    "# distinct values\n",
    "status = st.select_slider(\n",
    "    'number: ',\n",
    "    options = [2,4,6,8]\n",
    ")\n",
    "st.write(f'u choose {status}')\n",
    "\n",
    "# range values\n",
    "status = st.slider(\n",
    "    'values',\n",
    "    1.0,10.0\n",
    ")\n",
    "st.write(f'u choose {status}')\n",
    "st.divider()\n",
    "\n",
    "# text input\n",
    "name = st.text_input('your name: ')\n",
    "st.write(f'hi {name}')\n",
    "\n",
    "# number input\n",
    "num = st.number_input('u age: ')\n",
    "st.write(f'wow, {num} noi banh trung')\n",
    "st.divider()\n",
    "\n",
    "# button\n",
    "res = st.button('yeu khong')\n",
    "st.write('yeu' if res else 'khong yeu')\n",
    "st.divider()\n",
    "\n",
    "# link button\n",
    "st.link_button(\n",
    "    'fanpage',\n",
    "    'http://'\n",
    "    )\n",
    "st.divider()\n",
    "\n",
    "# chatbot\n",
    "\n",
    "#chat input\n",
    "query = st.chat_input('say sth...')\n",
    "st.write(f'just enter: {query}')\n",
    "st.divider()\n",
    "\n",
    "# upload file\n",
    "file = st.file_uploader(\n",
    "    'choose file'\n",
    ")\n",
    "st.divider()\n",
    "\n",
    "# upload multiple file\n",
    "files = st.file_uploader(\n",
    "    'choose many file',\n",
    "    accept_multiple_files = True\n",
    ")\n",
    "for file in files:\n",
    "    st.write(file.name)\n",
    "st.divider()\n",
    "\n",
    "# chart\n",
    "chart_data = pd.DataFrame(\n",
    "    np.random.randn(10,3),\n",
    "    columns = ['a','b','c']\n",
    ")\n",
    "st.bar_chart(chart_data)\n",
    "st.divider()\n",
    "\n"
   ]
  },
  {
   "cell_type": "markdown",
   "id": "120d70fd",
   "metadata": {},
   "source": [
    "# II. Score distribution project"
   ]
  },
  {
   "cell_type": "markdown",
   "id": "a5249110",
   "metadata": {},
   "source": [
    "![pipeline](./assets/pipeline.png)"
   ]
  },
  {
   "cell_type": "markdown",
   "id": "5ae8fec4",
   "metadata": {},
   "source": [
    "![demo](./assets/image1.png)"
   ]
  },
  {
   "cell_type": "code",
   "execution_count": 26,
   "id": "75c7410a",
   "metadata": {},
   "outputs": [
    {
     "name": "stdout",
     "output_type": "stream",
     "text": [
      "Overwriting app2.py\n"
     ]
    }
   ],
   "source": [
    "%%writefile app2.py\n",
    "import pandas as pd\n",
    "import streamlit as st\n",
    "import matplotlib.pyplot as plt\n",
    "import io\n",
    "from PIL import Image\n",
    "def percentage_distribution(scores):\n",
    "    bins = {\n",
    "        '>= 80':0,\n",
    "        '60-79':0,\n",
    "        '40-59':0,\n",
    "        '< 40':0,\n",
    "    }\n",
    "    for score in scores:\n",
    "        if score >= 80:\n",
    "            bins['>= 80'] +=1\n",
    "        elif score >= 60:\n",
    "            bins['60-79'] +=1\n",
    "        elif score >= 40:\n",
    "            bins['40-59'] +=1\n",
    "        else:\n",
    "            bins['< 40']+=1\n",
    "    \n",
    "    return bins\n",
    "            \n",
    "            \n",
    "\n",
    "def main():\n",
    "    st.title('phan tich diem hoc sinh')\n",
    "    uploaded_file = st.file_uploader('choose excel file', type = ['xlsx'])\n",
    "    if uploaded_file:\n",
    "        df = pd.read_excel(uploaded_file)\n",
    "        score = df['Điểm số'].dropna().astype(float).tolist()\n",
    "        # average\n",
    "        avg = sum(score)/len(score)\n",
    "        st.write(f'diem trung binh: {avg}')\n",
    "        \n",
    "        # distribution\n",
    "        res = percentage_distribution(score)\n",
    "        st.write(res)\n",
    "        \n",
    "        # show distribution\n",
    "        fig,ax = plt.subplots(figsize = (1,1))\n",
    "        labels = list(res.keys())\n",
    "        values = list(res.values())\n",
    "        ax.pie(\n",
    "            values,\n",
    "            labels = labels,\n",
    "            autopct = '%1.1f',\n",
    "            textprops = {'fontsize':3.5}\n",
    "        )\n",
    "        ax.axis('equal')\n",
    "        plt.tight_layout(pad = 0.1)\n",
    "        buf = io.BytesIO()\n",
    "        fig.savefig(buf, format = 'png',dpi = 500)\n",
    "        img = Image.open(buf)\n",
    "        st.write('bieu do phan bo diem')\n",
    "        st.image(img)\n",
    "\n",
    "if __name__ == '__main__':\n",
    "    main()"
   ]
  },
  {
   "cell_type": "markdown",
   "id": "da2f272c",
   "metadata": {},
   "source": [
    "# III. Factorial calculator project"
   ]
  },
  {
   "cell_type": "markdown",
   "id": "06008dbb",
   "metadata": {},
   "source": [
    "![pipeline2](./assets/image2.png)"
   ]
  },
  {
   "cell_type": "markdown",
   "id": "8f46acc3",
   "metadata": {},
   "source": [
    "![calculator](./assets/factorial.png)"
   ]
  },
  {
   "cell_type": "code",
   "execution_count": 14,
   "id": "0fbddadb",
   "metadata": {},
   "outputs": [
    {
     "name": "stdout",
     "output_type": "stream",
     "text": [
      "362880\n"
     ]
    }
   ],
   "source": [
    "mem = {0 : 1}\n",
    "def fact(n):\n",
    "    if n in mem: return mem[n]\n",
    "    res = n*fact(n-1)\n",
    "    mem[n] = res\n",
    "    return res\n",
    "\n",
    "print(fact(9))"
   ]
  },
  {
   "cell_type": "code",
   "execution_count": 37,
   "id": "5c3ad774",
   "metadata": {},
   "outputs": [
    {
     "name": "stdout",
     "output_type": "stream",
     "text": [
      "Overwriting app3.py\n"
     ]
    }
   ],
   "source": [
    "%%writefile app3.py\n",
    "import streamlit as st\n",
    "\n",
    "USERS = ['admin','manager']\n",
    "@st.cache_data\n",
    "def fact(n):\n",
    "    if n== 0: return 1\n",
    "    return n*fact(n-1)\n",
    "\n",
    "def login():\n",
    "    st.title('Login page')\n",
    "    username = st.text_input('User name: ')\n",
    "    if st.button('Login'):\n",
    "        st.session_state.user_name = username\n",
    "        if username in USERS:\n",
    "            st.session_state.logged_in = True\n",
    "        else:\n",
    "            st.session_state.logged_in = False\n",
    "            st.write(f'user {st.session_state.user_name} dont have permission')\n",
    "    else:\n",
    "        st.warning('please enter your username')\n",
    "def init():\n",
    "    st.session_state.logged_in = False\n",
    "    st.session_state.user_name = \"\"\n",
    "    \n",
    "def factorial_page():\n",
    "    st.title('Factorial Calculator')\n",
    "    st.write(f'hi {st.session_state.user_name}')\n",
    "\n",
    "    num = st.number_input(\n",
    "        'Enter a number between 0 and 50',\n",
    "        min_value = 0,\n",
    "        max_value = 50\n",
    "        )\n",
    "    button = st.button('Calculate')\n",
    "    if button:\n",
    "        res = fact(num)\n",
    "        st.write(f'The factorial of {num} is {res}')\n",
    "\n",
    "    # center alignment\n",
    "    col1, col2, col3 = st.columns([1, 1, 1])\n",
    "    with col2:\n",
    "        if st.button('Log out'):\n",
    "            init()\n",
    "                \n",
    "def main():\n",
    "    # session state\n",
    "    if 'logged_in' not in st.session_state:\n",
    "        st.session_state.logged_in = False\n",
    "    \n",
    "    if 'user_name' not in st.session_state:\n",
    "        st.session_state.user_name = \"\"\n",
    "     \n",
    "    if st.session_state.logged_in:\n",
    "        factorial_page()\n",
    "    else:\n",
    "        login()\n",
    "        \n",
    "if __name__ == '__main__':\n",
    "    main()"
   ]
  },
  {
   "cell_type": "code",
   "execution_count": null,
   "id": "59c052e2",
   "metadata": {},
   "outputs": [],
   "source": []
  },
  {
   "cell_type": "code",
   "execution_count": null,
   "id": "c4e9a193",
   "metadata": {},
   "outputs": [],
   "source": []
  },
  {
   "cell_type": "code",
   "execution_count": null,
   "id": "961a2828",
   "metadata": {},
   "outputs": [],
   "source": []
  },
  {
   "cell_type": "code",
   "execution_count": null,
   "id": "7c64f5a6",
   "metadata": {},
   "outputs": [],
   "source": []
  },
  {
   "cell_type": "code",
   "execution_count": null,
   "id": "11f8bb6d",
   "metadata": {},
   "outputs": [],
   "source": []
  }
 ],
 "metadata": {
  "kernelspec": {
   "display_name": "streamlit_app",
   "language": "python",
   "name": "python3"
  },
  "language_info": {
   "codemirror_mode": {
    "name": "ipython",
    "version": 3
   },
   "file_extension": ".py",
   "mimetype": "text/x-python",
   "name": "python",
   "nbconvert_exporter": "python",
   "pygments_lexer": "ipython3",
   "version": "3.12.11"
  }
 },
 "nbformat": 4,
 "nbformat_minor": 5
}
